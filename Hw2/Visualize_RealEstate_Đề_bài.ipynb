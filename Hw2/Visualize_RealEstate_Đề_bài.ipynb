{
 "cells": [
  {
   "cell_type": "markdown",
   "metadata": {
    "id": "Cc3gjULjdM2r"
   },
   "source": [
    "# Visualization\n",
    "\n",
    "Trong bài tập này, bạn sẽ được rèn luyện kĩ năng trực quan hóa. Trực quan hóa ngoài việc hỗ  trợ trong khâu tiền xử lí dữ liệu, còn giúp bạn phân tích và rút ra được các thông tin có ý nghĩa từ dữ liệu\n",
    "\n",
    "**Tập dữ liệu** được sử dụng được lấy từ trang batdongsan.com.vn"
   ]
  },
  {
   "cell_type": "code",
   "execution_count": 1,
   "metadata": {
    "id": "wtL34gkai5GS"
   },
   "outputs": [],
   "source": [
    "#Import các thư viện cần thiết\n",
    "\n",
    "import numpy as np\n",
    "import pandas as pd\n",
    "import matplotlib as mpl\n",
    "import matplotlib.pyplot as plt\n",
    "import seaborn as sns\n",
    "import warnings; warnings.filterwarnings(action='once')\n",
    "import random\n",
    "import math"
   ]
  },
  {
   "cell_type": "code",
   "execution_count": null,
   "metadata": {
    "colab": {
     "base_uri": "https://localhost:8080/"
    },
    "id": "ojhu738f1Drp",
    "outputId": "4a6000e3-4fb4-45fa-902a-e19ddc45c814"
   },
   "outputs": [
    {
     "name": "stdout",
     "output_type": "stream",
     "text": [
      "Drive already mounted at /content/drive; to attempt to forcibly remount, call drive.mount(\"/content/drive\", force_remount=True).\n"
     ]
    }
   ],
   "source": [
    "# from google.colab import drive\n",
    "# drive.mount('/content/drive')"
   ]
  },
  {
   "cell_type": "code",
   "execution_count": null,
   "metadata": {
    "colab": {
     "base_uri": "https://localhost:8080/"
    },
    "id": "1eSjEzAR1bVb",
    "outputId": "5256319b-f106-4488-931f-1c645ee612dc"
   },
   "outputs": [
    {
     "name": "stdout",
     "output_type": "stream",
     "text": [
      "/content/drive/MyDrive/Preprocessing_practice/2.Assignment/Batdongsan.com.vn\n"
     ]
    }
   ],
   "source": [
    "# cd /content/drive/MyDrive/Preprocessing_practice/2.Assignment/Batdongsan.com.vn"
   ]
  },
  {
   "cell_type": "code",
   "execution_count": 2,
   "metadata": {
    "colab": {
     "base_uri": "https://localhost:8080/"
    },
    "id": "sKZvtlddjgOL",
    "outputId": "aefb9101-4e31-42e2-82bd-c90e0493e489"
   },
   "outputs": [
    {
     "name": "stdout",
     "output_type": "stream",
     "text": [
      "DONE\n"
     ]
    }
   ],
   "source": [
    "#Load dữ liệu từ file\n",
    "newdf = pd.read_csv(\"batdongsan.com.vn.csv\", dtype = {\"month\": \"string\" , \"id\" : \"string\"})\n",
    "print(\"DONE\")"
   ]
  },
  {
   "cell_type": "code",
   "execution_count": 3,
   "metadata": {
    "colab": {
     "base_uri": "https://localhost:8080/"
    },
    "id": "rc4eMy2qih-h",
    "outputId": "9db6d2ae-3bcc-413a-c859-01ce42362b9b"
   },
   "outputs": [
    {
     "data": {
      "text/plain": [
       "Index(['id', 'month', 'project', 'investor', 'square', 'bedrooms', 'bathrooms',\n",
       "       'direction', 'balcony', 'district', 'ward', 'price'],\n",
       "      dtype='object')"
      ]
     },
     "execution_count": 3,
     "metadata": {},
     "output_type": "execute_result"
    }
   ],
   "source": [
    "newdf.columns"
   ]
  },
  {
   "cell_type": "code",
   "execution_count": 5,
   "metadata": {
    "id": "XMDgDVau0qKh"
   },
   "outputs": [
    {
     "data": {
      "text/html": [
       "<div>\n",
       "<style scoped>\n",
       "    .dataframe tbody tr th:only-of-type {\n",
       "        vertical-align: middle;\n",
       "    }\n",
       "\n",
       "    .dataframe tbody tr th {\n",
       "        vertical-align: top;\n",
       "    }\n",
       "\n",
       "    .dataframe thead th {\n",
       "        text-align: right;\n",
       "    }\n",
       "</style>\n",
       "<table border=\"1\" class=\"dataframe\">\n",
       "  <thead>\n",
       "    <tr style=\"text-align: right;\">\n",
       "      <th></th>\n",
       "      <th>id</th>\n",
       "      <th>month</th>\n",
       "      <th>project</th>\n",
       "      <th>investor</th>\n",
       "      <th>square</th>\n",
       "      <th>bedrooms</th>\n",
       "      <th>bathrooms</th>\n",
       "      <th>direction</th>\n",
       "      <th>balcony</th>\n",
       "      <th>district</th>\n",
       "      <th>ward</th>\n",
       "      <th>price</th>\n",
       "    </tr>\n",
       "  </thead>\n",
       "  <tbody>\n",
       "    <tr>\n",
       "      <th>0</th>\n",
       "      <td>28086120</td>\n",
       "      <td>12</td>\n",
       "      <td>Vinhomes Smart City Đại Mỗ</td>\n",
       "      <td>Tập đoàn Vingroup</td>\n",
       "      <td>60.0</td>\n",
       "      <td>3.0</td>\n",
       "      <td>1.0</td>\n",
       "      <td>Đông-Nam</td>\n",
       "      <td>Tây-Bắc</td>\n",
       "      <td>nam tu liem</td>\n",
       "      <td>dai mo</td>\n",
       "      <td>1560.0</td>\n",
       "    </tr>\n",
       "    <tr>\n",
       "      <th>1</th>\n",
       "      <td>28088954</td>\n",
       "      <td>12</td>\n",
       "      <td>Goldmark City</td>\n",
       "      <td>Công ty TNHH Thương mại - Quảng cáo - Xây dựng...</td>\n",
       "      <td>121.0</td>\n",
       "      <td>3.0</td>\n",
       "      <td>2.0</td>\n",
       "      <td>NaN</td>\n",
       "      <td>NaN</td>\n",
       "      <td>bac tu liem</td>\n",
       "      <td>phu dien</td>\n",
       "      <td>3300.0</td>\n",
       "    </tr>\n",
       "    <tr>\n",
       "      <th>2</th>\n",
       "      <td>28097966</td>\n",
       "      <td>12</td>\n",
       "      <td>Chung cư IEC Tứ Hiệp</td>\n",
       "      <td>NaN</td>\n",
       "      <td>70.0</td>\n",
       "      <td>2.0</td>\n",
       "      <td>2.0</td>\n",
       "      <td>Tây-Bắc</td>\n",
       "      <td>Đông-Nam</td>\n",
       "      <td>thanh tri</td>\n",
       "      <td>tu hiep</td>\n",
       "      <td>1106.0</td>\n",
       "    </tr>\n",
       "    <tr>\n",
       "      <th>3</th>\n",
       "      <td>27895887</td>\n",
       "      <td>12</td>\n",
       "      <td>Vinhomes D'Capitale</td>\n",
       "      <td>Tân Hoàng Minh Group</td>\n",
       "      <td>39.0</td>\n",
       "      <td>1.0</td>\n",
       "      <td>1.0</td>\n",
       "      <td>Đông-Nam</td>\n",
       "      <td>Đông-Nam</td>\n",
       "      <td>cau giay</td>\n",
       "      <td>trung hoa</td>\n",
       "      <td>1500.0</td>\n",
       "    </tr>\n",
       "    <tr>\n",
       "      <th>4</th>\n",
       "      <td>28056031</td>\n",
       "      <td>12</td>\n",
       "      <td>The Zen Residence</td>\n",
       "      <td>Công ty TNHH Gamuda Land Việt Nam</td>\n",
       "      <td>97.0</td>\n",
       "      <td>3.0</td>\n",
       "      <td>2.0</td>\n",
       "      <td>NaN</td>\n",
       "      <td>NaN</td>\n",
       "      <td>hoang mai</td>\n",
       "      <td>hoang liet</td>\n",
       "      <td>2900.0</td>\n",
       "    </tr>\n",
       "  </tbody>\n",
       "</table>\n",
       "</div>"
      ],
      "text/plain": [
       "         id month                     project  \\\n",
       "0  28086120    12  Vinhomes Smart City Đại Mỗ   \n",
       "1  28088954    12               Goldmark City   \n",
       "2  28097966    12        Chung cư IEC Tứ Hiệp   \n",
       "3  27895887    12         Vinhomes D'Capitale   \n",
       "4  28056031    12           The Zen Residence   \n",
       "\n",
       "                                            investor  square  bedrooms  \\\n",
       "0                                  Tập đoàn Vingroup    60.0       3.0   \n",
       "1  Công ty TNHH Thương mại - Quảng cáo - Xây dựng...   121.0       3.0   \n",
       "2                                                NaN    70.0       2.0   \n",
       "3                               Tân Hoàng Minh Group    39.0       1.0   \n",
       "4                  Công ty TNHH Gamuda Land Việt Nam    97.0       3.0   \n",
       "\n",
       "   bathrooms direction   balcony     district        ward   price  \n",
       "0        1.0  Đông-Nam   Tây-Bắc  nam tu liem      dai mo  1560.0  \n",
       "1        2.0       NaN       NaN  bac tu liem    phu dien  3300.0  \n",
       "2        2.0   Tây-Bắc  Đông-Nam    thanh tri     tu hiep  1106.0  \n",
       "3        1.0  Đông-Nam  Đông-Nam     cau giay   trung hoa  1500.0  \n",
       "4        2.0       NaN       NaN    hoang mai  hoang liet  2900.0  "
      ]
     },
     "execution_count": 5,
     "metadata": {},
     "output_type": "execute_result"
    }
   ],
   "source": [
    "# Xem 5 hàng dữ liệu đầu tiên, các thông tin ban đầu: df.info(), df.describe(), ...\n",
    "newdf.head(5)"
   ]
  },
  {
   "cell_type": "code",
   "execution_count": 8,
   "metadata": {},
   "outputs": [
    {
     "data": {
      "text/html": [
       "<div>\n",
       "<style scoped>\n",
       "    .dataframe tbody tr th:only-of-type {\n",
       "        vertical-align: middle;\n",
       "    }\n",
       "\n",
       "    .dataframe tbody tr th {\n",
       "        vertical-align: top;\n",
       "    }\n",
       "\n",
       "    .dataframe thead th {\n",
       "        text-align: right;\n",
       "    }\n",
       "</style>\n",
       "<table border=\"1\" class=\"dataframe\">\n",
       "  <thead>\n",
       "    <tr style=\"text-align: right;\">\n",
       "      <th></th>\n",
       "      <th>square</th>\n",
       "      <th>bedrooms</th>\n",
       "      <th>bathrooms</th>\n",
       "      <th>price</th>\n",
       "    </tr>\n",
       "  </thead>\n",
       "  <tbody>\n",
       "    <tr>\n",
       "      <th>count</th>\n",
       "      <td>81162.000000</td>\n",
       "      <td>81162.000000</td>\n",
       "      <td>81162.000000</td>\n",
       "      <td>81162.000000</td>\n",
       "    </tr>\n",
       "    <tr>\n",
       "      <th>mean</th>\n",
       "      <td>83.481974</td>\n",
       "      <td>2.365602</td>\n",
       "      <td>1.897785</td>\n",
       "      <td>2404.748090</td>\n",
       "    </tr>\n",
       "    <tr>\n",
       "      <th>std</th>\n",
       "      <td>25.662160</td>\n",
       "      <td>0.622283</td>\n",
       "      <td>0.404293</td>\n",
       "      <td>1038.825418</td>\n",
       "    </tr>\n",
       "    <tr>\n",
       "      <th>min</th>\n",
       "      <td>7.000000</td>\n",
       "      <td>1.000000</td>\n",
       "      <td>1.000000</td>\n",
       "      <td>350.000000</td>\n",
       "    </tr>\n",
       "    <tr>\n",
       "      <th>25%</th>\n",
       "      <td>66.000000</td>\n",
       "      <td>2.000000</td>\n",
       "      <td>2.000000</td>\n",
       "      <td>1520.000000</td>\n",
       "    </tr>\n",
       "    <tr>\n",
       "      <th>50%</th>\n",
       "      <td>79.000000</td>\n",
       "      <td>2.000000</td>\n",
       "      <td>2.000000</td>\n",
       "      <td>2300.000000</td>\n",
       "    </tr>\n",
       "    <tr>\n",
       "      <th>75%</th>\n",
       "      <td>98.000000</td>\n",
       "      <td>3.000000</td>\n",
       "      <td>2.000000</td>\n",
       "      <td>3150.000000</td>\n",
       "    </tr>\n",
       "    <tr>\n",
       "      <th>max</th>\n",
       "      <td>296.000000</td>\n",
       "      <td>4.000000</td>\n",
       "      <td>4.000000</td>\n",
       "      <td>5000.000000</td>\n",
       "    </tr>\n",
       "  </tbody>\n",
       "</table>\n",
       "</div>"
      ],
      "text/plain": [
       "             square      bedrooms     bathrooms         price\n",
       "count  81162.000000  81162.000000  81162.000000  81162.000000\n",
       "mean      83.481974      2.365602      1.897785   2404.748090\n",
       "std       25.662160      0.622283      0.404293   1038.825418\n",
       "min        7.000000      1.000000      1.000000    350.000000\n",
       "25%       66.000000      2.000000      2.000000   1520.000000\n",
       "50%       79.000000      2.000000      2.000000   2300.000000\n",
       "75%       98.000000      3.000000      2.000000   3150.000000\n",
       "max      296.000000      4.000000      4.000000   5000.000000"
      ]
     },
     "execution_count": 8,
     "metadata": {},
     "output_type": "execute_result"
    }
   ],
   "source": [
    "newdf.describe()"
   ]
  },
  {
   "cell_type": "markdown",
   "metadata": {
    "id": "DL3xABkQhG2Q"
   },
   "source": [
    "Đưa ra các câu lệnh để thực hiện các yêu cầu sau:"
   ]
  },
  {
   "cell_type": "markdown",
   "metadata": {
    "id": "Z8Pi-jOShegl"
   },
   "source": [
    "1. Minh họa boxblot của các trường số như price, bedrooms, square, ...\n",
    "\n",
    "* Gợi ý: sns.boxplot(data_field)"
   ]
  },
  {
   "cell_type": "code",
   "execution_count": 9,
   "metadata": {
    "id": "ko7Xwjc9i8ba"
   },
   "outputs": [
    {
     "data": {
      "text/plain": [
       "<Axes: >"
      ]
     },
     "execution_count": 9,
     "metadata": {},
     "output_type": "execute_result"
    },
    {
     "data": {
      "image/png": "[encoded data removed]",
      "text/plain": [
       "<Figure size 640x480 with 1 Axes>"
      ]
     },
     "metadata": {},
     "output_type": "display_data"
    }
   ],
   "source": [
    "#Code for 'price' field\n",
    "sns.boxplot(newdf['price'])"
   ]
  },
  {
   "cell_type": "code",
   "execution_count": 10,
   "metadata": {
    "id": "zYPWvc27kTzq"
   },
   "outputs": [
    {
     "data": {
      "text/plain": [
       "<Axes: >"
      ]
     },
     "execution_count": 10,
     "metadata": {},
     "output_type": "execute_result"
    },
    {
     "data": {
      "image/png": "[encoded data removed]",
      "text/plain": [
       "<Figure size 640x480 with 1 Axes>"
      ]
     },
     "metadata": {},
     "output_type": "display_data"
    }
   ],
   "source": [
    "#Code for 'square' field\n",
    "sns.boxplot(newdf['square'])"
   ]
  },
  {
   "cell_type": "code",
   "execution_count": 12,
   "metadata": {
    "id": "IytsL0LukaKo"
   },
   "outputs": [
    {
     "data": {
      "text/plain": [
       "<Axes: >"
      ]
     },
     "execution_count": 12,
     "metadata": {},
     "output_type": "execute_result"
    },
    {
     "data": {
      "image/png": "[encoded data removed]",
      "text/plain": [
       "<Figure size 640x480 with 1 Axes>"
      ]
     },
     "metadata": {},
     "output_type": "display_data"
    }
   ],
   "source": [
    "#Code for 'bedrooms' field\n",
    "sns.boxplot(newdf['bedrooms'])"
   ]
  },
  {
   "cell_type": "code",
   "execution_count": 14,
   "metadata": {
    "id": "7VONEc_ykXqJ"
   },
   "outputs": [
    {
     "data": {
      "image/png": "[encoded data removed]",
      "text/plain": [
       "<Figure size 640x480 with 1 Axes>"
      ]
     },
     "metadata": {},
     "output_type": "display_data"
    }
   ],
   "source": [
    "#Code for 'bathrooms' field\n",
    "sns.boxplot(newdf['bathrooms']);"
   ]
  },
  {
   "cell_type": "markdown",
   "metadata": {
    "id": "Rh70lLOrhjEv"
   },
   "source": [
    "2. Cho đoạn code minh họa Biểu đồ thể hiện số bài đăng theo tháng của năm 2020. Hãy thực hiện các yêu cầu cho các câu hỏi dưới đây:"
   ]
  },
  {
   "cell_type": "code",
   "execution_count": 21,
   "metadata": {
    "colab": {
     "base_uri": "https://localhost:8080/",
     "height": 690
    },
    "id": "_MAgwOFAkuWc",
    "outputId": "850486b7-f96e-4179-c90f-435d6d514f0b"
   },
   "outputs": [
    {
     "name": "stderr",
     "output_type": "stream",
     "text": [
      "C:\\Users\\Lenovo\\AppData\\Local\\Temp\\ipykernel_27192\\1920162332.py:12: UserWarning: set_ticklabels() should only be used with a fixed number of ticks, i.e. after set_ticks() or using a FixedLocator.\n",
      "  plt.gca().set_xticklabels(df1['month'], rotation=60, horizontalalignment= 'right')\n"
     ]
    },
    {
     "data": {
      "image/png": "[encoded data removed]",
      "text/plain": [
       "<Figure size 1280x800 with 1 Axes>"
      ]
     },
     "metadata": {},
     "output_type": "display_data"
    }
   ],
   "source": [
    "df1 = newdf.groupby('month').size().reset_index(name='number of records')\n",
    "n = df1['month'].unique().__len__()+1\n",
    "all_colors = list(plt.cm.colors.cnames.keys())\n",
    "random.seed(100)\n",
    "c = random.choices(all_colors, k=n)\n",
    "\n",
    "plt.figure(figsize=(16,10), dpi= 80)\n",
    "plt.bar(df1['month'], df1['number of records'], color=c, width=.5)\n",
    "for i, val in enumerate(df1['number of records'].values):\n",
    "    plt.text(i, val, float(val), horizontalalignment='center', verticalalignment='bottom', fontdict={'fontweight':500, 'size':12})\n",
    "\n",
    "plt.gca().set_xticklabels(df1['month'], rotation=60, horizontalalignment= 'right')\n",
    "plt.title(\"Biểu đồ thể hiện số bài đăng theo tháng của năm 2020\", fontsize=22)\n",
    "plt.ylabel('number of records')\n",
    "plt.show()"
   ]
  },
  {
   "cell_type": "markdown",
   "metadata": {
    "id": "R5940lMRhm4B"
   },
   "source": [
    "* Biểu đồ thể hiện giá nhà đất trung bình theo tháng (VND/m2)"
   ]
  },
  {
   "cell_type": "code",
   "execution_count": 18,
   "metadata": {
    "id": "6e2UFuOkk4HF"
   },
   "outputs": [],
   "source": [
    "df2 = newdf.groupby('month')['price'].mean().reset_index(name='mean price')"
   ]
  },
  {
   "cell_type": "code",
   "execution_count": 28,
   "metadata": {},
   "outputs": [],
   "source": [
    "df2['mean price'] = df2['mean price'].round(2)"
   ]
  },
  {
   "cell_type": "code",
   "execution_count": 29,
   "metadata": {},
   "outputs": [
    {
     "data": {
      "text/html": [
       "<div>\n",
       "<style scoped>\n",
       "    .dataframe tbody tr th:only-of-type {\n",
       "        vertical-align: middle;\n",
       "    }\n",
       "\n",
       "    .dataframe tbody tr th {\n",
       "        vertical-align: top;\n",
       "    }\n",
       "\n",
       "    .dataframe thead th {\n",
       "        text-align: right;\n",
       "    }\n",
       "</style>\n",
       "<table border=\"1\" class=\"dataframe\">\n",
       "  <thead>\n",
       "    <tr style=\"text-align: right;\">\n",
       "      <th></th>\n",
       "      <th>month</th>\n",
       "      <th>mean price</th>\n",
       "    </tr>\n",
       "  </thead>\n",
       "  <tbody>\n",
       "    <tr>\n",
       "      <th>0</th>\n",
       "      <td>03</td>\n",
       "      <td>1997.07</td>\n",
       "    </tr>\n",
       "    <tr>\n",
       "      <th>1</th>\n",
       "      <td>04</td>\n",
       "      <td>1844.83</td>\n",
       "    </tr>\n",
       "    <tr>\n",
       "      <th>2</th>\n",
       "      <td>05</td>\n",
       "      <td>2165.09</td>\n",
       "    </tr>\n",
       "    <tr>\n",
       "      <th>3</th>\n",
       "      <td>06</td>\n",
       "      <td>2332.94</td>\n",
       "    </tr>\n",
       "    <tr>\n",
       "      <th>4</th>\n",
       "      <td>07</td>\n",
       "      <td>2355.89</td>\n",
       "    </tr>\n",
       "    <tr>\n",
       "      <th>5</th>\n",
       "      <td>08</td>\n",
       "      <td>2380.93</td>\n",
       "    </tr>\n",
       "    <tr>\n",
       "      <th>6</th>\n",
       "      <td>09</td>\n",
       "      <td>2389.15</td>\n",
       "    </tr>\n",
       "    <tr>\n",
       "      <th>7</th>\n",
       "      <td>10</td>\n",
       "      <td>2425.98</td>\n",
       "    </tr>\n",
       "    <tr>\n",
       "      <th>8</th>\n",
       "      <td>11</td>\n",
       "      <td>2481.79</td>\n",
       "    </tr>\n",
       "    <tr>\n",
       "      <th>9</th>\n",
       "      <td>12</td>\n",
       "      <td>2509.59</td>\n",
       "    </tr>\n",
       "  </tbody>\n",
       "</table>\n",
       "</div>"
      ],
      "text/plain": [
       "  month  mean price\n",
       "0    03     1997.07\n",
       "1    04     1844.83\n",
       "2    05     2165.09\n",
       "3    06     2332.94\n",
       "4    07     2355.89\n",
       "5    08     2380.93\n",
       "6    09     2389.15\n",
       "7    10     2425.98\n",
       "8    11     2481.79\n",
       "9    12     2509.59"
      ]
     },
     "execution_count": 29,
     "metadata": {},
     "output_type": "execute_result"
    }
   ],
   "source": [
    "df2"
   ]
  },
  {
   "cell_type": "code",
   "execution_count": 30,
   "metadata": {},
   "outputs": [
    {
     "name": "stderr",
     "output_type": "stream",
     "text": [
      "C:\\Users\\Lenovo\\AppData\\Local\\Temp\\ipykernel_27192\\1053519716.py:10: UserWarning: set_ticklabels() should only be used with a fixed number of ticks, i.e. after set_ticks() or using a FixedLocator.\n",
      "  plt.gca().set_xticklabels(df2['month'], rotation=60, horizontalalignment= 'right')\n"
     ]
    },
    {
     "data": {
      "image/png": "[encoded data removed]",
      "text/plain": [
       "<Figure size 1280x800 with 1 Axes>"
      ]
     },
     "metadata": {},
     "output_type": "display_data"
    }
   ],
   "source": [
    "all_colors = list(plt.cm.colors.cnames.keys())\n",
    "random.seed(100)\n",
    "c = random.choices(all_colors, k=n)\n",
    "\n",
    "plt.figure(figsize=(16,10), dpi= 80)\n",
    "plt.bar(df2['month'], df2['mean price'], color=c, width=.5)\n",
    "for i, val in enumerate(df2['mean price'].values):\n",
    "    plt.text(i, val, float(val), horizontalalignment='center', verticalalignment='bottom', fontdict={'fontweight':500, 'size':12})\n",
    "\n",
    "plt.gca().set_xticklabels(df2['month'], rotation=60, horizontalalignment= 'right')\n",
    "plt.title(\"Biểu đồ thể hiện giá nhà đất trung bình theo tháng (VND/m2):\", fontsize=22)\n",
    "plt.ylabel('mean price')\n",
    "plt.show()"
   ]
  },
  {
   "cell_type": "markdown",
   "metadata": {
    "id": "aph_5zwMhtku"
   },
   "source": [
    "* Biểu đồ mật độ giá nhà của tháng 4 và tháng 12 (VND/m2)"
   ]
  },
  {
   "cell_type": "code",
   "execution_count": 58,
   "metadata": {},
   "outputs": [],
   "source": [
    "df34 = newdf.loc[newdf['month']=='04']\n",
    "df312 = newdf.loc[newdf['month']=='12']"
   ]
  },
  {
   "cell_type": "code",
   "execution_count": 59,
   "metadata": {},
   "outputs": [
    {
     "data": {
      "text/html": [
       "<div>\n",
       "<style scoped>\n",
       "    .dataframe tbody tr th:only-of-type {\n",
       "        vertical-align: middle;\n",
       "    }\n",
       "\n",
       "    .dataframe tbody tr th {\n",
       "        vertical-align: top;\n",
       "    }\n",
       "\n",
       "    .dataframe thead th {\n",
       "        text-align: right;\n",
       "    }\n",
       "</style>\n",
       "<table border=\"1\" class=\"dataframe\">\n",
       "  <thead>\n",
       "    <tr style=\"text-align: right;\">\n",
       "      <th></th>\n",
       "      <th>id</th>\n",
       "      <th>month</th>\n",
       "      <th>project</th>\n",
       "      <th>investor</th>\n",
       "      <th>square</th>\n",
       "      <th>bedrooms</th>\n",
       "      <th>bathrooms</th>\n",
       "      <th>direction</th>\n",
       "      <th>balcony</th>\n",
       "      <th>district</th>\n",
       "      <th>ward</th>\n",
       "      <th>price</th>\n",
       "    </tr>\n",
       "  </thead>\n",
       "  <tbody>\n",
       "    <tr>\n",
       "      <th>60585</th>\n",
       "      <td>25281762</td>\n",
       "      <td>04</td>\n",
       "      <td>NaN</td>\n",
       "      <td>NaN</td>\n",
       "      <td>77.0</td>\n",
       "      <td>3.0</td>\n",
       "      <td>2.0</td>\n",
       "      <td>Đông-Bắc</td>\n",
       "      <td>Tây-Nam</td>\n",
       "      <td>hoang mai</td>\n",
       "      <td>hoang liet</td>\n",
       "      <td>1850.0</td>\n",
       "    </tr>\n",
       "    <tr>\n",
       "      <th>61228</th>\n",
       "      <td>25268074</td>\n",
       "      <td>04</td>\n",
       "      <td>C37 Bộ Công An - Bắc Hà Tower</td>\n",
       "      <td>Công ty CP Xây dựng và Thương mại Bắc Hà</td>\n",
       "      <td>112.0</td>\n",
       "      <td>3.0</td>\n",
       "      <td>2.0</td>\n",
       "      <td>Đông-Nam</td>\n",
       "      <td>Tây-Bắc</td>\n",
       "      <td>nam tu liem</td>\n",
       "      <td>NaN</td>\n",
       "      <td>2688.0</td>\n",
       "    </tr>\n",
       "    <tr>\n",
       "      <th>61660</th>\n",
       "      <td>19276323</td>\n",
       "      <td>04</td>\n",
       "      <td>Khu đô thị mới Cổ Nhuế</td>\n",
       "      <td>Công ty CP Tập đoàn Nam Cường Hà Nội</td>\n",
       "      <td>150.0</td>\n",
       "      <td>3.0</td>\n",
       "      <td>3.0</td>\n",
       "      <td>NaN</td>\n",
       "      <td>NaN</td>\n",
       "      <td>bac tu liem</td>\n",
       "      <td>co nhue 1</td>\n",
       "      <td>3300.0</td>\n",
       "    </tr>\n",
       "    <tr>\n",
       "      <th>61960</th>\n",
       "      <td>21153832</td>\n",
       "      <td>04</td>\n",
       "      <td>NaN</td>\n",
       "      <td>NaN</td>\n",
       "      <td>33.0</td>\n",
       "      <td>1.0</td>\n",
       "      <td>1.0</td>\n",
       "      <td>NaN</td>\n",
       "      <td>NaN</td>\n",
       "      <td>nam tu liem</td>\n",
       "      <td>my dinh 2</td>\n",
       "      <td>660.0</td>\n",
       "    </tr>\n",
       "    <tr>\n",
       "      <th>63490</th>\n",
       "      <td>25200128</td>\n",
       "      <td>04</td>\n",
       "      <td>NaN</td>\n",
       "      <td>NaN</td>\n",
       "      <td>55.0</td>\n",
       "      <td>2.0</td>\n",
       "      <td>1.0</td>\n",
       "      <td>Bắc</td>\n",
       "      <td>Nam</td>\n",
       "      <td>cau giay</td>\n",
       "      <td>mai dich</td>\n",
       "      <td>1260.0</td>\n",
       "    </tr>\n",
       "  </tbody>\n",
       "</table>\n",
       "</div>"
      ],
      "text/plain": [
       "             id month                        project  \\\n",
       "60585  25281762    04                            NaN   \n",
       "61228  25268074    04  C37 Bộ Công An - Bắc Hà Tower   \n",
       "61660  19276323    04         Khu đô thị mới Cổ Nhuế   \n",
       "61960  21153832    04                            NaN   \n",
       "63490  25200128    04                            NaN   \n",
       "\n",
       "                                       investor  square  bedrooms  bathrooms  \\\n",
       "60585                                       NaN    77.0       3.0        2.0   \n",
       "61228  Công ty CP Xây dựng và Thương mại Bắc Hà   112.0       3.0        2.0   \n",
       "61660      Công ty CP Tập đoàn Nam Cường Hà Nội   150.0       3.0        3.0   \n",
       "61960                                       NaN    33.0       1.0        1.0   \n",
       "63490                                       NaN    55.0       2.0        1.0   \n",
       "\n",
       "      direction  balcony     district        ward   price  \n",
       "60585  Đông-Bắc  Tây-Nam    hoang mai  hoang liet  1850.0  \n",
       "61228  Đông-Nam  Tây-Bắc  nam tu liem         NaN  2688.0  \n",
       "61660       NaN      NaN  bac tu liem   co nhue 1  3300.0  \n",
       "61960       NaN      NaN  nam tu liem   my dinh 2   660.0  \n",
       "63490       Bắc      Nam     cau giay    mai dich  1260.0  "
      ]
     },
     "execution_count": 59,
     "metadata": {},
     "output_type": "execute_result"
    }
   ],
   "source": [
    "df34.head()"
   ]
  },
  {
   "cell_type": "code",
   "execution_count": 64,
   "metadata": {},
   "outputs": [
    {
     "name": "stderr",
     "output_type": "stream",
     "text": [
      "d:\\anaconda\\Lib\\site-packages\\seaborn\\_oldcore.py:1498: DeprecationWarning: is_categorical_dtype is deprecated and will be removed in a future version. Use isinstance(dtype, pd.CategoricalDtype) instead\n",
      "  if pd.api.types.is_categorical_dtype(vector):\n",
      "d:\\anaconda\\Lib\\site-packages\\seaborn\\_oldcore.py:1119: FutureWarning: use_inf_as_na option is deprecated and will be removed in a future version. Convert inf values to NaN before operating instead.\n",
      "  with pd.option_context('mode.use_inf_as_na', True):\n"
     ]
    },
    {
     "data": {
      "text/plain": [
       "<seaborn.axisgrid.FacetGrid at 0x2235ad65a10>"
      ]
     },
     "execution_count": 64,
     "metadata": {},
     "output_type": "execute_result"
    },
    {
     "data": {
      "image/png": "[encoded data removed]",
      "text/plain": [
       "<Figure size 500x500 with 1 Axes>"
      ]
     },
     "metadata": {},
     "output_type": "display_data"
    }
   ],
   "source": [
    "sns.displot(x=df34['price'], kde=True)"
   ]
  },
  {
   "cell_type": "code",
   "execution_count": null,
   "metadata": {
    "colab": {
     "base_uri": "https://localhost:8080/",
     "height": 790
    },
    "id": "eU_T5Wx6krVQ",
    "outputId": "e12e3677-f4e1-4c38-a50b-ff6ffbdd255e"
   },
   "outputs": [
    {
     "name": "stderr",
     "output_type": "stream",
     "text": [
      "/usr/local/lib/python3.7/dist-packages/seaborn/distributions.py:2557: FutureWarning: `distplot` is a deprecated function and will be removed in a future version. Please adapt your code to use either `displot` (a figure-level function with similar flexibility) or `histplot` (an axes-level function for histograms).\n",
      "  warnings.warn(msg, FutureWarning)\n",
      "/usr/local/lib/python3.7/dist-packages/seaborn/distributions.py:2557: FutureWarning: `distplot` is a deprecated function and will be removed in a future version. Please adapt your code to use either `displot` (a figure-level function with similar flexibility) or `histplot` (an axes-level function for histograms).\n",
      "  warnings.warn(msg, FutureWarning)\n"
     ]
    },
    {
     "data": {
      "image/png": "[encoded data removed]",
      "text/plain": [
       "<Figure size 1040x800 with 1 Axes>"
      ]
     },
     "metadata": {
      "needs_background": "light"
     },
     "output_type": "display_data"
    }
   ],
   "source": [
    "sns.displot(df34['price'])\n"
   ]
  },
  {
   "cell_type": "markdown",
   "metadata": {
    "id": "ZA35fCdShzJO"
   },
   "source": [
    "* Số lượng bất động sản phân theo số lượng bedrooms"
   ]
  },
  {
   "cell_type": "code",
   "execution_count": 32,
   "metadata": {
    "id": "0D0BVKFBqkVH"
   },
   "outputs": [
    {
     "data": {
      "text/html": [
       "<div>\n",
       "<style scoped>\n",
       "    .dataframe tbody tr th:only-of-type {\n",
       "        vertical-align: middle;\n",
       "    }\n",
       "\n",
       "    .dataframe tbody tr th {\n",
       "        vertical-align: top;\n",
       "    }\n",
       "\n",
       "    .dataframe thead th {\n",
       "        text-align: right;\n",
       "    }\n",
       "</style>\n",
       "<table border=\"1\" class=\"dataframe\">\n",
       "  <thead>\n",
       "    <tr style=\"text-align: right;\">\n",
       "      <th></th>\n",
       "      <th>bedrooms</th>\n",
       "      <th>count</th>\n",
       "    </tr>\n",
       "  </thead>\n",
       "  <tbody>\n",
       "    <tr>\n",
       "      <th>0</th>\n",
       "      <td>1.0</td>\n",
       "      <td>4158</td>\n",
       "    </tr>\n",
       "    <tr>\n",
       "      <th>1</th>\n",
       "      <td>2.0</td>\n",
       "      <td>45317</td>\n",
       "    </tr>\n",
       "    <tr>\n",
       "      <th>2</th>\n",
       "      <td>3.0</td>\n",
       "      <td>29543</td>\n",
       "    </tr>\n",
       "    <tr>\n",
       "      <th>3</th>\n",
       "      <td>4.0</td>\n",
       "      <td>2144</td>\n",
       "    </tr>\n",
       "  </tbody>\n",
       "</table>\n",
       "</div>"
      ],
      "text/plain": [
       "   bedrooms  count\n",
       "0       1.0   4158\n",
       "1       2.0  45317\n",
       "2       3.0  29543\n",
       "3       4.0   2144"
      ]
     },
     "execution_count": 32,
     "metadata": {},
     "output_type": "execute_result"
    }
   ],
   "source": [
    "df4 = newdf.groupby('bedrooms').size().reset_index(name='count')\n",
    "df4"
   ]
  },
  {
   "cell_type": "markdown",
   "metadata": {
    "id": "LG4yHA7Pji9G"
   },
   "source": [
    "* Giá bất động sản trung bình theo số lượng bedrooms"
   ]
  },
  {
   "cell_type": "code",
   "execution_count": 33,
   "metadata": {
    "id": "PQxrCh5xq78t"
   },
   "outputs": [
    {
     "data": {
      "text/html": [
       "<div>\n",
       "<style scoped>\n",
       "    .dataframe tbody tr th:only-of-type {\n",
       "        vertical-align: middle;\n",
       "    }\n",
       "\n",
       "    .dataframe tbody tr th {\n",
       "        vertical-align: top;\n",
       "    }\n",
       "\n",
       "    .dataframe thead th {\n",
       "        text-align: right;\n",
       "    }\n",
       "</style>\n",
       "<table border=\"1\" class=\"dataframe\">\n",
       "  <thead>\n",
       "    <tr style=\"text-align: right;\">\n",
       "      <th></th>\n",
       "      <th>bedrooms</th>\n",
       "      <th>mean price</th>\n",
       "    </tr>\n",
       "  </thead>\n",
       "  <tbody>\n",
       "    <tr>\n",
       "      <th>0</th>\n",
       "      <td>1.0</td>\n",
       "      <td>1342.610974</td>\n",
       "    </tr>\n",
       "    <tr>\n",
       "      <th>1</th>\n",
       "      <td>2.0</td>\n",
       "      <td>2019.564821</td>\n",
       "    </tr>\n",
       "    <tr>\n",
       "      <th>2</th>\n",
       "      <td>3.0</td>\n",
       "      <td>3037.271291</td>\n",
       "    </tr>\n",
       "    <tr>\n",
       "      <th>3</th>\n",
       "      <td>4.0</td>\n",
       "      <td>3890.328032</td>\n",
       "    </tr>\n",
       "  </tbody>\n",
       "</table>\n",
       "</div>"
      ],
      "text/plain": [
       "   bedrooms   mean price\n",
       "0       1.0  1342.610974\n",
       "1       2.0  2019.564821\n",
       "2       3.0  3037.271291\n",
       "3       4.0  3890.328032"
      ]
     },
     "execution_count": 33,
     "metadata": {},
     "output_type": "execute_result"
    }
   ],
   "source": [
    "df5 = newdf.groupby('bedrooms')['price'].mean().reset_index(name='mean price')\n",
    "df5"
   ]
  },
  {
   "cell_type": "markdown",
   "metadata": {
    "id": "nrSYT7zDiWKn"
   },
   "source": [
    "* Giá nhà đất trung bình theo quận (VND/m2)"
   ]
  },
  {
   "cell_type": "code",
   "execution_count": 35,
   "metadata": {
    "id": "DfmE_bhq8xnk"
   },
   "outputs": [
    {
     "data": {
      "text/html": [
       "<div>\n",
       "<style scoped>\n",
       "    .dataframe tbody tr th:only-of-type {\n",
       "        vertical-align: middle;\n",
       "    }\n",
       "\n",
       "    .dataframe tbody tr th {\n",
       "        vertical-align: top;\n",
       "    }\n",
       "\n",
       "    .dataframe thead th {\n",
       "        text-align: right;\n",
       "    }\n",
       "</style>\n",
       "<table border=\"1\" class=\"dataframe\">\n",
       "  <thead>\n",
       "    <tr style=\"text-align: right;\">\n",
       "      <th></th>\n",
       "      <th>district</th>\n",
       "      <th>mean price</th>\n",
       "    </tr>\n",
       "  </thead>\n",
       "  <tbody>\n",
       "    <tr>\n",
       "      <th>0</th>\n",
       "      <td>ba dinh</td>\n",
       "      <td>3335.350456</td>\n",
       "    </tr>\n",
       "    <tr>\n",
       "      <th>1</th>\n",
       "      <td>bac tu liem</td>\n",
       "      <td>3041.182833</td>\n",
       "    </tr>\n",
       "    <tr>\n",
       "      <th>2</th>\n",
       "      <td>cau giay</td>\n",
       "      <td>3033.774841</td>\n",
       "    </tr>\n",
       "    <tr>\n",
       "      <th>3</th>\n",
       "      <td>chuong my</td>\n",
       "      <td>687.321176</td>\n",
       "    </tr>\n",
       "    <tr>\n",
       "      <th>4</th>\n",
       "      <td>dan phuong</td>\n",
       "      <td>1117.530702</td>\n",
       "    </tr>\n",
       "    <tr>\n",
       "      <th>5</th>\n",
       "      <td>dong anh</td>\n",
       "      <td>1415.668997</td>\n",
       "    </tr>\n",
       "    <tr>\n",
       "      <th>6</th>\n",
       "      <td>dong da</td>\n",
       "      <td>2693.787442</td>\n",
       "    </tr>\n",
       "    <tr>\n",
       "      <th>7</th>\n",
       "      <td>gia lam</td>\n",
       "      <td>1698.436365</td>\n",
       "    </tr>\n",
       "    <tr>\n",
       "      <th>8</th>\n",
       "      <td>ha dong</td>\n",
       "      <td>1635.687684</td>\n",
       "    </tr>\n",
       "    <tr>\n",
       "      <th>9</th>\n",
       "      <td>hai ba trung</td>\n",
       "      <td>3227.851373</td>\n",
       "    </tr>\n",
       "    <tr>\n",
       "      <th>10</th>\n",
       "      <td>hoai duc</td>\n",
       "      <td>1337.237347</td>\n",
       "    </tr>\n",
       "    <tr>\n",
       "      <th>11</th>\n",
       "      <td>hoan kiem</td>\n",
       "      <td>2761.875000</td>\n",
       "    </tr>\n",
       "    <tr>\n",
       "      <th>12</th>\n",
       "      <td>hoang mai</td>\n",
       "      <td>1589.681570</td>\n",
       "    </tr>\n",
       "    <tr>\n",
       "      <th>13</th>\n",
       "      <td>long bien</td>\n",
       "      <td>2126.505218</td>\n",
       "    </tr>\n",
       "    <tr>\n",
       "      <th>14</th>\n",
       "      <td>me linh</td>\n",
       "      <td>1111.900000</td>\n",
       "    </tr>\n",
       "    <tr>\n",
       "      <th>15</th>\n",
       "      <td>nam tu liem</td>\n",
       "      <td>2630.895551</td>\n",
       "    </tr>\n",
       "    <tr>\n",
       "      <th>16</th>\n",
       "      <td>quoc oai</td>\n",
       "      <td>592.620000</td>\n",
       "    </tr>\n",
       "    <tr>\n",
       "      <th>17</th>\n",
       "      <td>tay ho</td>\n",
       "      <td>3199.681908</td>\n",
       "    </tr>\n",
       "    <tr>\n",
       "      <th>18</th>\n",
       "      <td>thach that</td>\n",
       "      <td>832.200000</td>\n",
       "    </tr>\n",
       "    <tr>\n",
       "      <th>19</th>\n",
       "      <td>thanh oai</td>\n",
       "      <td>804.846300</td>\n",
       "    </tr>\n",
       "    <tr>\n",
       "      <th>20</th>\n",
       "      <td>thanh tri</td>\n",
       "      <td>1895.560240</td>\n",
       "    </tr>\n",
       "    <tr>\n",
       "      <th>21</th>\n",
       "      <td>thanh xuan</td>\n",
       "      <td>2889.001056</td>\n",
       "    </tr>\n",
       "    <tr>\n",
       "      <th>22</th>\n",
       "      <td>thuong tin</td>\n",
       "      <td>706.666667</td>\n",
       "    </tr>\n",
       "  </tbody>\n",
       "</table>\n",
       "</div>"
      ],
      "text/plain": [
       "        district   mean price\n",
       "0        ba dinh  3335.350456\n",
       "1    bac tu liem  3041.182833\n",
       "2       cau giay  3033.774841\n",
       "3      chuong my   687.321176\n",
       "4     dan phuong  1117.530702\n",
       "5       dong anh  1415.668997\n",
       "6        dong da  2693.787442\n",
       "7        gia lam  1698.436365\n",
       "8        ha dong  1635.687684\n",
       "9   hai ba trung  3227.851373\n",
       "10      hoai duc  1337.237347\n",
       "11     hoan kiem  2761.875000\n",
       "12     hoang mai  1589.681570\n",
       "13     long bien  2126.505218\n",
       "14       me linh  1111.900000\n",
       "15   nam tu liem  2630.895551\n",
       "16      quoc oai   592.620000\n",
       "17        tay ho  3199.681908\n",
       "18    thach that   832.200000\n",
       "19     thanh oai   804.846300\n",
       "20     thanh tri  1895.560240\n",
       "21    thanh xuan  2889.001056\n",
       "22    thuong tin   706.666667"
      ]
     },
     "execution_count": 35,
     "metadata": {},
     "output_type": "execute_result"
    }
   ],
   "source": [
    "df6=newdf.groupby('district')['price'].mean().reset_index(name='mean price')\n",
    "df6"
   ]
  },
  {
   "cell_type": "markdown",
   "metadata": {
    "id": "lToyeYRBicKF"
   },
   "source": [
    "* Giá nhà đất trung bình theo các phường quận Hoàn Kiếm (VND/m2)"
   ]
  },
  {
   "cell_type": "code",
   "execution_count": null,
   "metadata": {
    "id": "_JCqPkJD96WV"
   },
   "outputs": [],
   "source": [
    "df7 = newdf.loc[newdf['district']=='hoan kiem']"
   ]
  },
  {
   "cell_type": "code",
   "execution_count": 38,
   "metadata": {},
   "outputs": [
    {
     "data": {
      "text/html": [
       "<div>\n",
       "<style scoped>\n",
       "    .dataframe tbody tr th:only-of-type {\n",
       "        vertical-align: middle;\n",
       "    }\n",
       "\n",
       "    .dataframe tbody tr th {\n",
       "        vertical-align: top;\n",
       "    }\n",
       "\n",
       "    .dataframe thead th {\n",
       "        text-align: right;\n",
       "    }\n",
       "</style>\n",
       "<table border=\"1\" class=\"dataframe\">\n",
       "  <thead>\n",
       "    <tr style=\"text-align: right;\">\n",
       "      <th></th>\n",
       "      <th>ward</th>\n",
       "      <th>mean price</th>\n",
       "    </tr>\n",
       "  </thead>\n",
       "  <tbody>\n",
       "    <tr>\n",
       "      <th>0</th>\n",
       "      <td>chuong duong</td>\n",
       "      <td>1233.333333</td>\n",
       "    </tr>\n",
       "    <tr>\n",
       "      <th>1</th>\n",
       "      <td>cua dong</td>\n",
       "      <td>2150.000000</td>\n",
       "    </tr>\n",
       "    <tr>\n",
       "      <th>2</th>\n",
       "      <td>cua nam</td>\n",
       "      <td>3145.000000</td>\n",
       "    </tr>\n",
       "    <tr>\n",
       "      <th>3</th>\n",
       "      <td>dong xuan</td>\n",
       "      <td>2200.000000</td>\n",
       "    </tr>\n",
       "    <tr>\n",
       "      <th>4</th>\n",
       "      <td>hang bai</td>\n",
       "      <td>3725.000000</td>\n",
       "    </tr>\n",
       "    <tr>\n",
       "      <th>5</th>\n",
       "      <td>hang bo</td>\n",
       "      <td>2300.000000</td>\n",
       "    </tr>\n",
       "    <tr>\n",
       "      <th>6</th>\n",
       "      <td>hang buom</td>\n",
       "      <td>2050.000000</td>\n",
       "    </tr>\n",
       "    <tr>\n",
       "      <th>7</th>\n",
       "      <td>hang ma</td>\n",
       "      <td>2100.000000</td>\n",
       "    </tr>\n",
       "    <tr>\n",
       "      <th>8</th>\n",
       "      <td>ly thai to</td>\n",
       "      <td>1450.000000</td>\n",
       "    </tr>\n",
       "    <tr>\n",
       "      <th>9</th>\n",
       "      <td>phan chu trinh</td>\n",
       "      <td>2475.000000</td>\n",
       "    </tr>\n",
       "    <tr>\n",
       "      <th>10</th>\n",
       "      <td>tran hung dao</td>\n",
       "      <td>3017.586207</td>\n",
       "    </tr>\n",
       "    <tr>\n",
       "      <th>11</th>\n",
       "      <td>trang tien</td>\n",
       "      <td>3325.000000</td>\n",
       "    </tr>\n",
       "  </tbody>\n",
       "</table>\n",
       "</div>"
      ],
      "text/plain": [
       "              ward   mean price\n",
       "0     chuong duong  1233.333333\n",
       "1         cua dong  2150.000000\n",
       "2          cua nam  3145.000000\n",
       "3        dong xuan  2200.000000\n",
       "4         hang bai  3725.000000\n",
       "5          hang bo  2300.000000\n",
       "6        hang buom  2050.000000\n",
       "7          hang ma  2100.000000\n",
       "8       ly thai to  1450.000000\n",
       "9   phan chu trinh  2475.000000\n",
       "10   tran hung dao  3017.586207\n",
       "11      trang tien  3325.000000"
      ]
     },
     "execution_count": 38,
     "metadata": {},
     "output_type": "execute_result"
    }
   ],
   "source": [
    "df7s = df7.groupby('ward')['price'].mean().reset_index(name='mean price')\n",
    "df7s"
   ]
  },
  {
   "cell_type": "markdown",
   "metadata": {
    "id": "7n3Qxu6eimsb"
   },
   "source": [
    "* Giá nhà đất trung bình theo nhà đầu tư (VND/m2)"
   ]
  },
  {
   "cell_type": "code",
   "execution_count": 40,
   "metadata": {
    "id": "VwhRUc0O-1Fi"
   },
   "outputs": [
    {
     "data": {
      "text/html": [
       "<div>\n",
       "<style scoped>\n",
       "    .dataframe tbody tr th:only-of-type {\n",
       "        vertical-align: middle;\n",
       "    }\n",
       "\n",
       "    .dataframe tbody tr th {\n",
       "        vertical-align: top;\n",
       "    }\n",
       "\n",
       "    .dataframe thead th {\n",
       "        text-align: right;\n",
       "    }\n",
       "</style>\n",
       "<table border=\"1\" class=\"dataframe\">\n",
       "  <thead>\n",
       "    <tr style=\"text-align: right;\">\n",
       "      <th></th>\n",
       "      <th>investor</th>\n",
       "      <th>mean price</th>\n",
       "    </tr>\n",
       "  </thead>\n",
       "  <tbody>\n",
       "    <tr>\n",
       "      <th>0</th>\n",
       "      <td>Bộ Tham Mưu - Bộ Tư Lệnh Bộ Đội Biên Phòng</td>\n",
       "      <td>1787.000000</td>\n",
       "    </tr>\n",
       "    <tr>\n",
       "      <th>1</th>\n",
       "      <td>C.T Group</td>\n",
       "      <td>2157.312500</td>\n",
       "    </tr>\n",
       "    <tr>\n",
       "      <th>2</th>\n",
       "      <td>Công TNHH Bắc Chương Dương</td>\n",
       "      <td>2831.392157</td>\n",
       "    </tr>\n",
       "    <tr>\n",
       "      <th>3</th>\n",
       "      <td>Công Ty CP Đầu Tư Xây Dựng Và Địa Ốc  An Việt ...</td>\n",
       "      <td>2366.666667</td>\n",
       "    </tr>\n",
       "    <tr>\n",
       "      <th>4</th>\n",
       "      <td>Công ty Booyoung</td>\n",
       "      <td>2491.666924</td>\n",
       "    </tr>\n",
       "    <tr>\n",
       "      <th>...</th>\n",
       "      <td>...</td>\n",
       "      <td>...</td>\n",
       "    </tr>\n",
       "    <tr>\n",
       "      <th>257</th>\n",
       "      <td>Tổng công ty Xây dựng Thanh Hóa - Công ty Cổ phần</td>\n",
       "      <td>3670.877863</td>\n",
       "    </tr>\n",
       "    <tr>\n",
       "      <th>258</th>\n",
       "      <td>Tổng công ty Đầu tư Phát triển Hạ tầng đô thị ...</td>\n",
       "      <td>2945.305281</td>\n",
       "    </tr>\n",
       "    <tr>\n",
       "      <th>259</th>\n",
       "      <td>Tổng công ty đầu tư phát triển nhà và đô thị B...</td>\n",
       "      <td>2655.010549</td>\n",
       "    </tr>\n",
       "    <tr>\n",
       "      <th>260</th>\n",
       "      <td>Vimefulland</td>\n",
       "      <td>1815.000000</td>\n",
       "    </tr>\n",
       "    <tr>\n",
       "      <th>261</th>\n",
       "      <td>Xí nghiệp Xây dựng Tư nhân Số 1 Lai Châu</td>\n",
       "      <td>930.181511</td>\n",
       "    </tr>\n",
       "  </tbody>\n",
       "</table>\n",
       "<p>262 rows × 2 columns</p>\n",
       "</div>"
      ],
      "text/plain": [
       "                                              investor   mean price\n",
       "0           Bộ Tham Mưu - Bộ Tư Lệnh Bộ Đội Biên Phòng  1787.000000\n",
       "1                                            C.T Group  2157.312500\n",
       "2                           Công TNHH Bắc Chương Dương  2831.392157\n",
       "3    Công Ty CP Đầu Tư Xây Dựng Và Địa Ốc  An Việt ...  2366.666667\n",
       "4                                     Công ty Booyoung  2491.666924\n",
       "..                                                 ...          ...\n",
       "257  Tổng công ty Xây dựng Thanh Hóa - Công ty Cổ phần  3670.877863\n",
       "258  Tổng công ty Đầu tư Phát triển Hạ tầng đô thị ...  2945.305281\n",
       "259  Tổng công ty đầu tư phát triển nhà và đô thị B...  2655.010549\n",
       "260                                        Vimefulland  1815.000000\n",
       "261           Xí nghiệp Xây dựng Tư nhân Số 1 Lai Châu   930.181511\n",
       "\n",
       "[262 rows x 2 columns]"
      ]
     },
     "execution_count": 40,
     "metadata": {},
     "output_type": "execute_result"
    }
   ],
   "source": [
    "df8 = newdf.groupby('investor')['price'].mean().reset_index(name='mean price')\n",
    "df8"
   ]
  },
  {
   "cell_type": "markdown",
   "metadata": {
    "id": "d9j9JPH7iqfM"
   },
   "source": [
    "* Giá nhà đất trung bình theo dự án (VND/m2)"
   ]
  },
  {
   "cell_type": "code",
   "execution_count": 42,
   "metadata": {
    "id": "W5GHV9g9nNAR"
   },
   "outputs": [
    {
     "data": {
      "text/html": [
       "<div>\n",
       "<style scoped>\n",
       "    .dataframe tbody tr th:only-of-type {\n",
       "        vertical-align: middle;\n",
       "    }\n",
       "\n",
       "    .dataframe tbody tr th {\n",
       "        vertical-align: top;\n",
       "    }\n",
       "\n",
       "    .dataframe thead th {\n",
       "        text-align: right;\n",
       "    }\n",
       "</style>\n",
       "<table border=\"1\" class=\"dataframe\">\n",
       "  <thead>\n",
       "    <tr style=\"text-align: right;\">\n",
       "      <th></th>\n",
       "      <th>project</th>\n",
       "      <th>mean price</th>\n",
       "    </tr>\n",
       "  </thead>\n",
       "  <tbody>\n",
       "    <tr>\n",
       "      <th>0</th>\n",
       "      <td>6th Element</td>\n",
       "      <td>3354.803676</td>\n",
       "    </tr>\n",
       "    <tr>\n",
       "      <th>1</th>\n",
       "      <td>A10-A14 Nam Trung Yên</td>\n",
       "      <td>2351.074000</td>\n",
       "    </tr>\n",
       "    <tr>\n",
       "      <th>2</th>\n",
       "      <td>AQH Riverside</td>\n",
       "      <td>1564.666667</td>\n",
       "    </tr>\n",
       "    <tr>\n",
       "      <th>3</th>\n",
       "      <td>AZ Lâm Viên Complex</td>\n",
       "      <td>3396.666667</td>\n",
       "    </tr>\n",
       "    <tr>\n",
       "      <th>4</th>\n",
       "      <td>Amber Riverside</td>\n",
       "      <td>2953.636364</td>\n",
       "    </tr>\n",
       "    <tr>\n",
       "      <th>...</th>\n",
       "      <td>...</td>\n",
       "      <td>...</td>\n",
       "    </tr>\n",
       "    <tr>\n",
       "      <th>615</th>\n",
       "      <td>Xuân Phương Garden</td>\n",
       "      <td>1953.000000</td>\n",
       "    </tr>\n",
       "    <tr>\n",
       "      <th>616</th>\n",
       "      <td>Xuân Phương Residence</td>\n",
       "      <td>1888.706061</td>\n",
       "    </tr>\n",
       "    <tr>\n",
       "      <th>617</th>\n",
       "      <td>Xuân Phương Tasco</td>\n",
       "      <td>2166.142105</td>\n",
       "    </tr>\n",
       "    <tr>\n",
       "      <th>618</th>\n",
       "      <td>Yên Hòa Condominium</td>\n",
       "      <td>2284.333333</td>\n",
       "    </tr>\n",
       "    <tr>\n",
       "      <th>619</th>\n",
       "      <td>Đồng Phát Park View Tower</td>\n",
       "      <td>1805.181818</td>\n",
       "    </tr>\n",
       "  </tbody>\n",
       "</table>\n",
       "<p>620 rows × 2 columns</p>\n",
       "</div>"
      ],
      "text/plain": [
       "                       project   mean price\n",
       "0                  6th Element  3354.803676\n",
       "1        A10-A14 Nam Trung Yên  2351.074000\n",
       "2                AQH Riverside  1564.666667\n",
       "3          AZ Lâm Viên Complex  3396.666667\n",
       "4              Amber Riverside  2953.636364\n",
       "..                         ...          ...\n",
       "615         Xuân Phương Garden  1953.000000\n",
       "616      Xuân Phương Residence  1888.706061\n",
       "617          Xuân Phương Tasco  2166.142105\n",
       "618        Yên Hòa Condominium  2284.333333\n",
       "619  Đồng Phát Park View Tower  1805.181818\n",
       "\n",
       "[620 rows x 2 columns]"
      ]
     },
     "execution_count": 42,
     "metadata": {},
     "output_type": "execute_result"
    }
   ],
   "source": [
    "df9 = newdf.groupby('project')['price'].mean().reset_index(name='mean price')\n",
    "df9"
   ]
  },
  {
   "cell_type": "markdown",
   "metadata": {
    "id": "FcZP0wyji6yr"
   },
   "source": [
    "* Giá bất động sản phân bố theo top 10 nhà đầu tư triệu /m2"
   ]
  },
  {
   "cell_type": "code",
   "execution_count": null,
   "metadata": {
    "id": "hfQuN0DZop50"
   },
   "outputs": [],
   "source": [
    "# Code ở đây"
   ]
  },
  {
   "cell_type": "markdown",
   "metadata": {
    "id": "3SB_Iti8jF7j"
   },
   "source": [
    "* Giá bất động sản phân bố theo dự án"
   ]
  },
  {
   "cell_type": "code",
   "execution_count": null,
   "metadata": {
    "id": "YIa66jFPtyRW"
   },
   "outputs": [],
   "source": [
    "# Code ở đây"
   ]
  },
  {
   "cell_type": "markdown",
   "metadata": {
    "id": "486lAyCOjPsb"
   },
   "source": [
    "* Giá nhà đất trung bình theo hướng nhà (VND/m2)"
   ]
  },
  {
   "cell_type": "code",
   "execution_count": 43,
   "metadata": {},
   "outputs": [
    {
     "data": {
      "text/html": [
       "<div>\n",
       "<style scoped>\n",
       "    .dataframe tbody tr th:only-of-type {\n",
       "        vertical-align: middle;\n",
       "    }\n",
       "\n",
       "    .dataframe tbody tr th {\n",
       "        vertical-align: top;\n",
       "    }\n",
       "\n",
       "    .dataframe thead th {\n",
       "        text-align: right;\n",
       "    }\n",
       "</style>\n",
       "<table border=\"1\" class=\"dataframe\">\n",
       "  <thead>\n",
       "    <tr style=\"text-align: right;\">\n",
       "      <th></th>\n",
       "      <th>id</th>\n",
       "      <th>month</th>\n",
       "      <th>project</th>\n",
       "      <th>investor</th>\n",
       "      <th>square</th>\n",
       "      <th>bedrooms</th>\n",
       "      <th>bathrooms</th>\n",
       "      <th>direction</th>\n",
       "      <th>balcony</th>\n",
       "      <th>district</th>\n",
       "      <th>ward</th>\n",
       "      <th>price</th>\n",
       "    </tr>\n",
       "  </thead>\n",
       "  <tbody>\n",
       "    <tr>\n",
       "      <th>0</th>\n",
       "      <td>28086120</td>\n",
       "      <td>12</td>\n",
       "      <td>Vinhomes Smart City Đại Mỗ</td>\n",
       "      <td>Tập đoàn Vingroup</td>\n",
       "      <td>60.0</td>\n",
       "      <td>3.0</td>\n",
       "      <td>1.0</td>\n",
       "      <td>Đông-Nam</td>\n",
       "      <td>Tây-Bắc</td>\n",
       "      <td>nam tu liem</td>\n",
       "      <td>dai mo</td>\n",
       "      <td>1560.0</td>\n",
       "    </tr>\n",
       "    <tr>\n",
       "      <th>1</th>\n",
       "      <td>28088954</td>\n",
       "      <td>12</td>\n",
       "      <td>Goldmark City</td>\n",
       "      <td>Công ty TNHH Thương mại - Quảng cáo - Xây dựng...</td>\n",
       "      <td>121.0</td>\n",
       "      <td>3.0</td>\n",
       "      <td>2.0</td>\n",
       "      <td>NaN</td>\n",
       "      <td>NaN</td>\n",
       "      <td>bac tu liem</td>\n",
       "      <td>phu dien</td>\n",
       "      <td>3300.0</td>\n",
       "    </tr>\n",
       "    <tr>\n",
       "      <th>2</th>\n",
       "      <td>28097966</td>\n",
       "      <td>12</td>\n",
       "      <td>Chung cư IEC Tứ Hiệp</td>\n",
       "      <td>NaN</td>\n",
       "      <td>70.0</td>\n",
       "      <td>2.0</td>\n",
       "      <td>2.0</td>\n",
       "      <td>Tây-Bắc</td>\n",
       "      <td>Đông-Nam</td>\n",
       "      <td>thanh tri</td>\n",
       "      <td>tu hiep</td>\n",
       "      <td>1106.0</td>\n",
       "    </tr>\n",
       "    <tr>\n",
       "      <th>3</th>\n",
       "      <td>27895887</td>\n",
       "      <td>12</td>\n",
       "      <td>Vinhomes D'Capitale</td>\n",
       "      <td>Tân Hoàng Minh Group</td>\n",
       "      <td>39.0</td>\n",
       "      <td>1.0</td>\n",
       "      <td>1.0</td>\n",
       "      <td>Đông-Nam</td>\n",
       "      <td>Đông-Nam</td>\n",
       "      <td>cau giay</td>\n",
       "      <td>trung hoa</td>\n",
       "      <td>1500.0</td>\n",
       "    </tr>\n",
       "    <tr>\n",
       "      <th>4</th>\n",
       "      <td>28056031</td>\n",
       "      <td>12</td>\n",
       "      <td>The Zen Residence</td>\n",
       "      <td>Công ty TNHH Gamuda Land Việt Nam</td>\n",
       "      <td>97.0</td>\n",
       "      <td>3.0</td>\n",
       "      <td>2.0</td>\n",
       "      <td>NaN</td>\n",
       "      <td>NaN</td>\n",
       "      <td>hoang mai</td>\n",
       "      <td>hoang liet</td>\n",
       "      <td>2900.0</td>\n",
       "    </tr>\n",
       "  </tbody>\n",
       "</table>\n",
       "</div>"
      ],
      "text/plain": [
       "         id month                     project  \\\n",
       "0  28086120    12  Vinhomes Smart City Đại Mỗ   \n",
       "1  28088954    12               Goldmark City   \n",
       "2  28097966    12        Chung cư IEC Tứ Hiệp   \n",
       "3  27895887    12         Vinhomes D'Capitale   \n",
       "4  28056031    12           The Zen Residence   \n",
       "\n",
       "                                            investor  square  bedrooms  \\\n",
       "0                                  Tập đoàn Vingroup    60.0       3.0   \n",
       "1  Công ty TNHH Thương mại - Quảng cáo - Xây dựng...   121.0       3.0   \n",
       "2                                                NaN    70.0       2.0   \n",
       "3                               Tân Hoàng Minh Group    39.0       1.0   \n",
       "4                  Công ty TNHH Gamuda Land Việt Nam    97.0       3.0   \n",
       "\n",
       "   bathrooms direction   balcony     district        ward   price  \n",
       "0        1.0  Đông-Nam   Tây-Bắc  nam tu liem      dai mo  1560.0  \n",
       "1        2.0       NaN       NaN  bac tu liem    phu dien  3300.0  \n",
       "2        2.0   Tây-Bắc  Đông-Nam    thanh tri     tu hiep  1106.0  \n",
       "3        1.0  Đông-Nam  Đông-Nam     cau giay   trung hoa  1500.0  \n",
       "4        2.0       NaN       NaN    hoang mai  hoang liet  2900.0  "
      ]
     },
     "execution_count": 43,
     "metadata": {},
     "output_type": "execute_result"
    }
   ],
   "source": [
    "newdf.head()"
   ]
  },
  {
   "cell_type": "code",
   "execution_count": null,
   "metadata": {
    "id": "dKtWyV5N44r-"
   },
   "outputs": [],
   "source": []
  },
  {
   "cell_type": "code",
   "execution_count": null,
   "metadata": {
    "id": "Pu9u_f67k6Ms"
   },
   "outputs": [],
   "source": [
    "# Code ở đây"
   ]
  },
  {
   "cell_type": "markdown",
   "metadata": {
    "id": "UqTzdCtgiEkR"
   },
   "source": [
    "3. Tương quan giữa các trường thuộc tính"
   ]
  },
  {
   "cell_type": "markdown",
   "metadata": {
    "id": "razzt2p92flf"
   },
   "source": [
    "* https://vi.wikipedia.org/wiki/H%E1%BB%87_s%E1%BB%91_t%C6%B0%C6%A1ng_quan\n",
    "* bieu do the hien he so tuong quan giua cac cap bien so thuc banggf biểu đồ heatmap"
   ]
  },
  {
   "cell_type": "code",
   "execution_count": null,
   "metadata": {
    "id": "HbaCuQ3ItH8z"
   },
   "outputs": [],
   "source": [
    "# Gợi ý: sns.heatmap(cmap='RdYlGn', ...)\n"
   ]
  },
  {
   "cell_type": "markdown",
   "metadata": {
    "id": "Y_sxAtn224TV"
   },
   "source": [
    "* bieu do the hien moi quan he giua cac bien so thuc với biểu đồ phân tán"
   ]
  },
  {
   "cell_type": "code",
   "execution_count": null,
   "metadata": {
    "id": "bCGm77r2nnDe"
   },
   "outputs": [],
   "source": [
    "#Gợi ý: sns.pairplot(kind='scatter', ...)\n",
    "\n"
   ]
  },
  {
   "cell_type": "markdown",
   "metadata": {
    "id": "UL7HjxQ6iOvX"
   },
   "source": [
    "4. Mật độ giá nhà trung bình theo quận "
   ]
  },
  {
   "cell_type": "code",
   "execution_count": null,
   "metadata": {
    "id": "ztVWEpt9uFir"
   },
   "outputs": [],
   "source": [
    "#Gợi ý: sns.displot()\n"
   ]
  },
  {
   "cell_type": "markdown",
   "metadata": {
    "id": "KK-ZFY0GjWCx"
   },
   "source": [
    "End :))"
   ]
  }
 ],
 "metadata": {
  "colab": {
   "name": "Visualize_RealEstate_Đề bài.ipynb",
   "provenance": []
  },
  "kernelspec": {
   "display_name": "Python 3",
   "language": "python",
   "name": "python3"
  },
  "language_info": {
   "codemirror_mode": {
    "name": "ipython",
    "version": 3
   },
   "file_extension": ".py",
   "mimetype": "text/x-python",
   "name": "python",
   "nbconvert_exporter": "python",
   "pygments_lexer": "ipython3",
   "version": "3.11.5"
  }
 },
 "nbformat": 4,
 "nbformat_minor": 1
}
